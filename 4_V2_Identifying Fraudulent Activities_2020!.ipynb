{
 "cells": [
  {
   "cell_type": "code",
   "execution_count": null,
   "metadata": {},
   "outputs": [],
   "source": [
    "https://github.com/stasi009/TakeHomeDataChallenges/blob/master/04.FraudActivity/fraud_activity.ipynb"
   ]
  },
  {
   "cell_type": "code",
   "execution_count": 1,
   "metadata": {},
   "outputs": [
    {
     "name": "stderr",
     "output_type": "stream",
     "text": [
      "C:\\Users\\jpouu\\anaconda3\\lib\\importlib\\_bootstrap.py:219: RuntimeWarning: numpy.ufunc size changed, may indicate binary incompatibility. Expected 192 from C header, got 216 from PyObject\n",
      "  return f(*args, **kwds)\n",
      "C:\\Users\\jpouu\\anaconda3\\lib\\importlib\\_bootstrap.py:219: RuntimeWarning: numpy.ufunc size changed, may indicate binary incompatibility. Expected 192 from C header, got 216 from PyObject\n",
      "  return f(*args, **kwds)\n"
     ]
    }
   ],
   "source": [
    "### load library \n",
    "\n",
    "import pandas as pd \n",
    "import numpy as np \n",
    "import matplotlib.pyplot as plt \n",
    "import seaborn as sns \n",
    "\n",
    "# missing data vis \n",
    "import missingno\n",
    "\n",
    "\n",
    "## Plotint setting \n",
    "%matplotlib inline\n",
    "sns.set(style=\"white\",palette= \"muted\")\n",
    "sns.set_context(\"talk\", font_scale=0.9)#, rc={\"lines.linewidth\": 1})\n",
    "\n",
    "\n",
    "### for ttest \n",
    "\n",
    "from scipy.stats import ttest_ind"
   ]
  },
  {
   "cell_type": "code",
   "execution_count": 2,
   "metadata": {},
   "outputs": [],
   "source": [
    "fraud = pd.read_csv(\"./Fraud_Data.csv\")\n",
    "mapping = pd.read_csv(\"./IpAddress_to_Country.csv\")\n",
    "mapping['upper_bound_ip_address'] = mapping['upper_bound_ip_address'].astype(\"float64\")\n",
    "mapping = mapping.sort_values('lower_bound_ip_address')"
   ]
  },
  {
   "cell_type": "code",
   "execution_count": 3,
   "metadata": {},
   "outputs": [
    {
     "data": {
      "text/html": [
       "<div>\n",
       "<style scoped>\n",
       "    .dataframe tbody tr th:only-of-type {\n",
       "        vertical-align: middle;\n",
       "    }\n",
       "\n",
       "    .dataframe tbody tr th {\n",
       "        vertical-align: top;\n",
       "    }\n",
       "\n",
       "    .dataframe thead th {\n",
       "        text-align: right;\n",
       "    }\n",
       "</style>\n",
       "<table border=\"1\" class=\"dataframe\">\n",
       "  <thead>\n",
       "    <tr style=\"text-align: right;\">\n",
       "      <th></th>\n",
       "      <th>user_id</th>\n",
       "      <th>signup_time</th>\n",
       "      <th>purchase_time</th>\n",
       "      <th>purchase_value</th>\n",
       "      <th>device_id</th>\n",
       "      <th>source</th>\n",
       "      <th>browser</th>\n",
       "      <th>sex</th>\n",
       "      <th>age</th>\n",
       "      <th>ip_address</th>\n",
       "      <th>class</th>\n",
       "    </tr>\n",
       "  </thead>\n",
       "  <tbody>\n",
       "    <tr>\n",
       "      <th>0</th>\n",
       "      <td>22058</td>\n",
       "      <td>2015-02-24 22:55:49</td>\n",
       "      <td>2015-04-18 02:47:11</td>\n",
       "      <td>34</td>\n",
       "      <td>QVPSPJUOCKZAR</td>\n",
       "      <td>SEO</td>\n",
       "      <td>Chrome</td>\n",
       "      <td>M</td>\n",
       "      <td>39</td>\n",
       "      <td>7.327584e+08</td>\n",
       "      <td>0</td>\n",
       "    </tr>\n",
       "    <tr>\n",
       "      <th>1</th>\n",
       "      <td>333320</td>\n",
       "      <td>2015-06-07 20:39:50</td>\n",
       "      <td>2015-06-08 01:38:54</td>\n",
       "      <td>16</td>\n",
       "      <td>EOGFQPIZPYXFZ</td>\n",
       "      <td>Ads</td>\n",
       "      <td>Chrome</td>\n",
       "      <td>F</td>\n",
       "      <td>53</td>\n",
       "      <td>3.503114e+08</td>\n",
       "      <td>0</td>\n",
       "    </tr>\n",
       "    <tr>\n",
       "      <th>2</th>\n",
       "      <td>1359</td>\n",
       "      <td>2015-01-01 18:52:44</td>\n",
       "      <td>2015-01-01 18:52:45</td>\n",
       "      <td>15</td>\n",
       "      <td>YSSKYOSJHPPLJ</td>\n",
       "      <td>SEO</td>\n",
       "      <td>Opera</td>\n",
       "      <td>M</td>\n",
       "      <td>53</td>\n",
       "      <td>2.621474e+09</td>\n",
       "      <td>1</td>\n",
       "    </tr>\n",
       "    <tr>\n",
       "      <th>3</th>\n",
       "      <td>150084</td>\n",
       "      <td>2015-04-28 21:13:25</td>\n",
       "      <td>2015-05-04 13:54:50</td>\n",
       "      <td>44</td>\n",
       "      <td>ATGTXKYKUDUQN</td>\n",
       "      <td>SEO</td>\n",
       "      <td>Safari</td>\n",
       "      <td>M</td>\n",
       "      <td>41</td>\n",
       "      <td>3.840542e+09</td>\n",
       "      <td>0</td>\n",
       "    </tr>\n",
       "    <tr>\n",
       "      <th>4</th>\n",
       "      <td>221365</td>\n",
       "      <td>2015-07-21 07:09:52</td>\n",
       "      <td>2015-09-09 18:40:53</td>\n",
       "      <td>39</td>\n",
       "      <td>NAUITBZFJKHWW</td>\n",
       "      <td>Ads</td>\n",
       "      <td>Safari</td>\n",
       "      <td>M</td>\n",
       "      <td>45</td>\n",
       "      <td>4.155831e+08</td>\n",
       "      <td>0</td>\n",
       "    </tr>\n",
       "    <tr>\n",
       "      <th>...</th>\n",
       "      <td>...</td>\n",
       "      <td>...</td>\n",
       "      <td>...</td>\n",
       "      <td>...</td>\n",
       "      <td>...</td>\n",
       "      <td>...</td>\n",
       "      <td>...</td>\n",
       "      <td>...</td>\n",
       "      <td>...</td>\n",
       "      <td>...</td>\n",
       "      <td>...</td>\n",
       "    </tr>\n",
       "    <tr>\n",
       "      <th>151107</th>\n",
       "      <td>345170</td>\n",
       "      <td>2015-01-27 03:03:34</td>\n",
       "      <td>2015-03-29 00:30:47</td>\n",
       "      <td>43</td>\n",
       "      <td>XPSKTWGPWINLR</td>\n",
       "      <td>SEO</td>\n",
       "      <td>Chrome</td>\n",
       "      <td>M</td>\n",
       "      <td>28</td>\n",
       "      <td>3.451155e+09</td>\n",
       "      <td>1</td>\n",
       "    </tr>\n",
       "    <tr>\n",
       "      <th>151108</th>\n",
       "      <td>274471</td>\n",
       "      <td>2015-05-15 17:43:29</td>\n",
       "      <td>2015-05-26 12:24:39</td>\n",
       "      <td>35</td>\n",
       "      <td>LYSFABUCPCGBA</td>\n",
       "      <td>SEO</td>\n",
       "      <td>Safari</td>\n",
       "      <td>M</td>\n",
       "      <td>32</td>\n",
       "      <td>2.439047e+09</td>\n",
       "      <td>0</td>\n",
       "    </tr>\n",
       "    <tr>\n",
       "      <th>151109</th>\n",
       "      <td>368416</td>\n",
       "      <td>2015-03-03 23:07:31</td>\n",
       "      <td>2015-05-20 07:07:47</td>\n",
       "      <td>40</td>\n",
       "      <td>MEQHCSJUBRBFE</td>\n",
       "      <td>SEO</td>\n",
       "      <td>IE</td>\n",
       "      <td>F</td>\n",
       "      <td>26</td>\n",
       "      <td>2.748471e+09</td>\n",
       "      <td>0</td>\n",
       "    </tr>\n",
       "    <tr>\n",
       "      <th>151110</th>\n",
       "      <td>207709</td>\n",
       "      <td>2015-07-09 20:06:07</td>\n",
       "      <td>2015-09-07 09:34:46</td>\n",
       "      <td>46</td>\n",
       "      <td>CMCXFGRHYSTVJ</td>\n",
       "      <td>SEO</td>\n",
       "      <td>Chrome</td>\n",
       "      <td>M</td>\n",
       "      <td>37</td>\n",
       "      <td>3.601175e+09</td>\n",
       "      <td>0</td>\n",
       "    </tr>\n",
       "    <tr>\n",
       "      <th>151111</th>\n",
       "      <td>138208</td>\n",
       "      <td>2015-06-10 07:02:20</td>\n",
       "      <td>2015-07-21 02:03:53</td>\n",
       "      <td>20</td>\n",
       "      <td>ZINIADFCLHYPG</td>\n",
       "      <td>Direct</td>\n",
       "      <td>IE</td>\n",
       "      <td>M</td>\n",
       "      <td>38</td>\n",
       "      <td>4.103825e+09</td>\n",
       "      <td>0</td>\n",
       "    </tr>\n",
       "  </tbody>\n",
       "</table>\n",
       "<p>151112 rows × 11 columns</p>\n",
       "</div>"
      ],
      "text/plain": [
       "        user_id          signup_time        purchase_time  purchase_value  \\\n",
       "0         22058  2015-02-24 22:55:49  2015-04-18 02:47:11              34   \n",
       "1        333320  2015-06-07 20:39:50  2015-06-08 01:38:54              16   \n",
       "2          1359  2015-01-01 18:52:44  2015-01-01 18:52:45              15   \n",
       "3        150084  2015-04-28 21:13:25  2015-05-04 13:54:50              44   \n",
       "4        221365  2015-07-21 07:09:52  2015-09-09 18:40:53              39   \n",
       "...         ...                  ...                  ...             ...   \n",
       "151107   345170  2015-01-27 03:03:34  2015-03-29 00:30:47              43   \n",
       "151108   274471  2015-05-15 17:43:29  2015-05-26 12:24:39              35   \n",
       "151109   368416  2015-03-03 23:07:31  2015-05-20 07:07:47              40   \n",
       "151110   207709  2015-07-09 20:06:07  2015-09-07 09:34:46              46   \n",
       "151111   138208  2015-06-10 07:02:20  2015-07-21 02:03:53              20   \n",
       "\n",
       "            device_id  source browser sex  age    ip_address  class  \n",
       "0       QVPSPJUOCKZAR     SEO  Chrome   M   39  7.327584e+08      0  \n",
       "1       EOGFQPIZPYXFZ     Ads  Chrome   F   53  3.503114e+08      0  \n",
       "2       YSSKYOSJHPPLJ     SEO   Opera   M   53  2.621474e+09      1  \n",
       "3       ATGTXKYKUDUQN     SEO  Safari   M   41  3.840542e+09      0  \n",
       "4       NAUITBZFJKHWW     Ads  Safari   M   45  4.155831e+08      0  \n",
       "...               ...     ...     ...  ..  ...           ...    ...  \n",
       "151107  XPSKTWGPWINLR     SEO  Chrome   M   28  3.451155e+09      1  \n",
       "151108  LYSFABUCPCGBA     SEO  Safari   M   32  2.439047e+09      0  \n",
       "151109  MEQHCSJUBRBFE     SEO      IE   F   26  2.748471e+09      0  \n",
       "151110  CMCXFGRHYSTVJ     SEO  Chrome   M   37  3.601175e+09      0  \n",
       "151111  ZINIADFCLHYPG  Direct      IE   M   38  4.103825e+09      0  \n",
       "\n",
       "[151112 rows x 11 columns]"
      ]
     },
     "execution_count": 3,
     "metadata": {},
     "output_type": "execute_result"
    }
   ],
   "source": [
    "fraud"
   ]
  },
  {
   "cell_type": "markdown",
   "metadata": {},
   "source": [
    "## problem 1 find country name for ip "
   ]
  },
  {
   "cell_type": "code",
   "execution_count": 19,
   "metadata": {},
   "outputs": [],
   "source": [
    "country = []\n",
    "for i in range(len(fraud)):\n",
    "    temp = fraud.loc[i,'ip_address']\n",
    "    re = mapping.loc[(mapping['lower_bound_ip_address'] <= temp ) & (mapping['upper_bound_ip_address'] >= temp ),\"country\"]\n",
    "    if len(re) == 1:\n",
    "        country.append(re.values[0])\n",
    "    else:\n",
    "        country.append(\"NA\")\n",
    "        \n",
    "fraud['country'] = country\n"
   ]
  },
  {
   "cell_type": "code",
   "execution_count": 21,
   "metadata": {},
   "outputs": [
    {
     "data": {
      "text/plain": [
       "United States     58049\n",
       "NA                21966\n",
       "China             12038\n",
       "Japan              7306\n",
       "United Kingdom     4490\n",
       "                  ...  \n",
       "Dominica              1\n",
       "Cape Verde            1\n",
       "Guadeloupe            1\n",
       "Vanuatu               1\n",
       "Burundi               1\n",
       "Name: country, Length: 182, dtype: int64"
      ]
     },
     "execution_count": 21,
     "metadata": {},
     "output_type": "execute_result"
    }
   ],
   "source": [
    "fraud['country'].value_counts()"
   ]
  },
  {
   "cell_type": "code",
   "execution_count": 22,
   "metadata": {},
   "outputs": [],
   "source": [
    "fraud['signup_time'] = pd.to_datetime(fraud['signup_time'] )\n",
    "fraud['purchase_time'] = pd.to_datetime(fraud['purchase_time'] )\n",
    "fraud['hour_diff']  =  (fraud['purchase_time'] - fraud['signup_time'])/ np.timedelta64(1,'h')\n"
   ]
  },
  {
   "cell_type": "code",
   "execution_count": 24,
   "metadata": {},
   "outputs": [
    {
     "data": {
      "text/plain": [
       "ITUMJCKWEYNDD    20\n",
       "EQYVNEGOFLAWK    20\n",
       "KIPFSCNUGOLDP    20\n",
       "ZUSVMDEZRBDTX    20\n",
       "CQTUVBYIWWWBC    20\n",
       "                 ..\n",
       "XLHOPEZTRBBIL     1\n",
       "UXWACHWTBXOXE     1\n",
       "OOTQAIVKAZSMT     1\n",
       "XQBRPQXOOGQWU     1\n",
       "FCPDFOPXKLRRZ     1\n",
       "Name: device_id, Length: 137956, dtype: int64"
      ]
     },
     "execution_count": 24,
     "metadata": {},
     "output_type": "execute_result"
    }
   ],
   "source": [
    "fraud['device_id'].value_counts()"
   ]
  },
  {
   "cell_type": "code",
   "execution_count": null,
   "metadata": {},
   "outputs": [],
   "source": [
    "fraud['device_id'].value_counts()"
   ]
  },
  {
   "cell_type": "code",
   "execution_count": 25,
   "metadata": {},
   "outputs": [
    {
     "name": "stdout",
     "output_type": "stream",
     "text": [
      "user_id              151112\t [264191, 209996, 396395, 394346, 138345]\n",
      "signup_time          151112\t [Timestamp('2015-06-30 03:58:38'), Timestamp('2015-04-12 17:12:25'), Timestamp('2015-04-27 06:41:03'), Timestamp('2015-04-17 01:07:12'), Timestamp('2015-01-22 12:41:59')]\n",
      "purchase_time        150679\t [Timestamp('2015-07-17 23:22:55'), Timestamp('2015-06-08 09:42:04'), Timestamp('2015-09-10 09:04:53'), Timestamp('2015-04-12 13:38:27'), Timestamp('2015-09-05 11:48:14')]\n",
      "purchase_value         122\t [28, 27, 32, 24, 26]\n",
      "device_id            137956\t ['ITUMJCKWEYNDD', 'EQYVNEGOFLAWK', 'KIPFSCNUGOLDP', 'ZUSVMDEZRBDTX', 'CQTUVBYIWWWBC']\n",
      "source                   3\t ['SEO', 'Ads', 'Direct']\n",
      "browser                  5\t ['Chrome', 'IE', 'Safari', 'FireFox', 'Opera']\n",
      "sex                      2\t ['M', 'F']\n",
      "age                     58\t [32, 31, 33, 30, 29]\n",
      "ip_address           143512\t [3874757617.26129, 576060872.5273781, 2050963888.16442, 1502818419.73176, 2937899119.50045]\n",
      "class                    2\t [0, 1]\n",
      "country                182\t ['United States', 'NA', 'China', 'Japan', 'United Kingdom']\n",
      "hour_diff            143513\t [0.0002777777777777778, 2537.135277777778, 307.0086111111111, 2358.916111111111, 1884.221388888889]\n"
     ]
    }
   ],
   "source": [
    "\n",
    "for column in fraud.columns:\n",
    "    top_freq = list(fraud[column].value_counts().index)\n",
    "    print('{0:20s} {1:5d}\\t'.format(column, len(top_freq)), top_freq[:5])"
   ]
  },
  {
   "cell_type": "code",
   "execution_count": 35,
   "metadata": {},
   "outputs": [],
   "source": [
    "\n",
    "# how many times a device is shared\n",
    "n_dev_shared = fraud.device_id.value_counts()\n",
    "\n",
    "# because we are studying user's first transaction\n",
    "# the more a device is shared, the more suspicious\n",
    "fraud['n_dev_shared'] = fraud.device_id.map(n_dev_shared)\n",
    "del fraud['device_id']"
   ]
  },
  {
   "cell_type": "code",
   "execution_count": null,
   "metadata": {},
   "outputs": [],
   "source": []
  },
  {
   "cell_type": "code",
   "execution_count": 39,
   "metadata": {},
   "outputs": [],
   "source": [
    "# how many times a ip address is shared\n",
    "n_ip_shared = fraud.ip_address.value_counts()\n",
    "\n",
    "# because we are studying user's first transaction\n",
    "# the more a ip is shared, the more suspicous\n",
    "fraud['n_ip_shared'] = fraud.ip_address.map(n_ip_shared)\n",
    "del fraud['ip_address']"
   ]
  },
  {
   "cell_type": "code",
   "execution_count": 41,
   "metadata": {},
   "outputs": [],
   "source": [
    "# how many users are from the same country\n",
    "n_country_shared = fraud.country.value_counts()\n",
    "\n",
    "# the less visit from a country, the more suspicious\n",
    "fraud['n_country_shared'] = fraud.country.map(n_country_shared)\n",
    "del fraud['country']"
   ]
  },
  {
   "cell_type": "code",
   "execution_count": 43,
   "metadata": {},
   "outputs": [
    {
     "data": {
      "text/plain": [
       "<matplotlib.legend.Legend at 0x20dc2368288>"
      ]
     },
     "execution_count": 43,
     "metadata": {},
     "output_type": "execute_result"
    },
    {
     "data": {
      "image/png": "[encoded data removed]",
      "text/plain": [
       "<Figure size 432x288 with 1 Axes>"
      ]
     },
     "metadata": {},
     "output_type": "display_data"
    }
   ],
   "source": [
    "sns.distplot(fraud.loc[fraud['class']==0,'purchase_value'],label = \"0\")\n",
    "sns.distplot(fraud.loc[fraud['class']==1,'purchase_value'],label = \"1\")\n",
    "plt.legend()"
   ]
  },
  {
   "cell_type": "code",
   "execution_count": 45,
   "metadata": {},
   "outputs": [
    {
     "data": {
      "text/plain": [
       "<matplotlib.legend.Legend at 0x20dcc346b88>"
      ]
     },
     "execution_count": 45,
     "metadata": {},
     "output_type": "execute_result"
    },
    {
     "data": {
      "image/png": "[encoded data removed]",
      "text/plain": [
       "<Figure size 432x288 with 1 Axes>"
      ]
     },
     "metadata": {},
     "output_type": "display_data"
    }
   ],
   "source": [
    "####### looks like more than 50% of fraud case happen for sign up time and first purchase time \n",
    "\n",
    "\n",
    "sns.distplot(fraud.loc[fraud['class']==0,'hour_diff'],label = \"0\")\n",
    "sns.distplot(fraud.loc[fraud['class']==1,'hour_diff'],label = \"1\")\n",
    "plt.legend()"
   ]
  },
  {
   "cell_type": "code",
   "execution_count": 46,
   "metadata": {},
   "outputs": [
    {
     "data": {
      "text/plain": [
       "<seaborn.axisgrid.FacetGrid at 0x20dcc329b88>"
      ]
     },
     "execution_count": 46,
     "metadata": {},
     "output_type": "execute_result"
    },
    {
     "data": {
      "image/png": "[encoded data removed]",
      "text/plain": [
       "<Figure size 425.835x360 with 1 Axes>"
      ]
     },
     "metadata": {},
     "output_type": "display_data"
    }
   ],
   "source": [
    "df_temp = fraud.groupby(['source',\"sex\"]).mean().reset_index()\n",
    "sns.catplot(x=\"source\" , y = \"class\",hue = \"sex\",kind = \"bar\", data = df_temp)"
   ]
  },
  {
   "cell_type": "code",
   "execution_count": 54,
   "metadata": {},
   "outputs": [
    {
     "data": {
      "text/plain": [
       "<matplotlib.legend.Legend at 0x20dcb025d88>"
      ]
     },
     "execution_count": 54,
     "metadata": {},
     "output_type": "execute_result"
    },
    {
     "data": {
      "image/png": "[encoded data removed]",
      "text/plain": [
       "<Figure size 432x288 with 1 Axes>"
      ]
     },
     "metadata": {},
     "output_type": "display_data"
    }
   ],
   "source": [
    "sns.distplot(fraud.loc[fraud['class']==0,'hour_diff'],label = \"0\")\n",
    "sns.distplot(fraud.loc[fraud['class']==1,'hour_diff'],label = \"1\")\n",
    "plt.legend()"
   ]
  },
  {
   "cell_type": "markdown",
   "metadata": {},
   "source": [
    "### Feature Engineering "
   ]
  },
  {
   "cell_type": "code",
   "execution_count": 60,
   "metadata": {},
   "outputs": [],
   "source": [
    "cate = pd.get_dummies(fraud.loc[:,['source','browser','sex']])\n",
    "X = pd.concat([cate,fraud.loc[:,['purchase_value','age','hour_diff','n_dev_shared','n_ip_shared','n_country_shared']]],axis= 1)\n",
    "y =  fraud['class'] "
   ]
  },
  {
   "cell_type": "code",
   "execution_count": 81,
   "metadata": {},
   "outputs": [],
   "source": [
    "from sklearn.tree import DecisionTreeClassifier,export_graphviz\n",
    "from sklearn.model_selection import  train_test_split\n",
    "from sklearn.metrics import accuracy_score,classification_report,roc_curve\n",
    "from xgboost import XGBClassifier\n",
    "import xgboost as xgb"
   ]
  },
  {
   "cell_type": "code",
   "execution_count": 82,
   "metadata": {},
   "outputs": [],
   "source": [
    "Xtrain,Xtest,ytrain,ytest = train_test_split(X,y,test_size=0.3,random_state=888)\n",
    "train_matrix = xgb.DMatrix(Xtrain,ytrain)\n",
    "test_matrix = xgb.DMatrix(Xtest)"
   ]
  },
  {
   "cell_type": "code",
   "execution_count": 66,
   "metadata": {},
   "outputs": [],
   "source": [
    "#xgb = XGBClassifier()\n",
    "xgb.DMatrix()"
   ]
  },
  {
   "cell_type": "code",
   "execution_count": 95,
   "metadata": {},
   "outputs": [],
   "source": [
    "\n",
    "params = {}\n",
    "params['silent'] = 1\n",
    "params['objective'] = 'binary:logistic'  # output probabilities\n",
    "params['eval_metric'] = 'auc'\n",
    "params[\"num_rounds\"] = 300\n",
    "params[\"early_stopping_rounds\"] = 30\n",
    "# params['min_child_weight'] = 2\n",
    "params['max_depth'] = 6\n",
    "params['eta'] = 0.1\n",
    "params[\"subsample\"] = 0.8\n",
    "params[\"colsample_bytree\"] = 0.8\n",
    "\n",
    "#xgb.fit()"
   ]
  },
  {
   "cell_type": "code",
   "execution_count": 78,
   "metadata": {},
   "outputs": [
    {
     "data": {
      "text/plain": [
       "'auc'"
      ]
     },
     "execution_count": 78,
     "metadata": {},
     "output_type": "execute_result"
    }
   ],
   "source": [
    "params['eval_metric']"
   ]
  },
  {
   "cell_type": "code",
   "execution_count": 85,
   "metadata": {},
   "outputs": [],
   "source": [
    "from xgboost import cv"
   ]
  },
  {
   "cell_type": "code",
   "execution_count": 101,
   "metadata": {},
   "outputs": [
    {
     "name": "stdout",
     "output_type": "stream",
     "text": [
      "[0]\ttrain-auc:0.84143+0.00072\ttest-auc:0.84113+0.00272\n",
      "[1]\ttrain-auc:0.84270+0.00070\ttest-auc:0.84223+0.00244\n",
      "[2]\ttrain-auc:0.84323+0.00064\ttest-auc:0.84243+0.00234\n",
      "[3]\ttrain-auc:0.84333+0.00064\ttest-auc:0.84245+0.00228\n",
      "[4]\ttrain-auc:0.84345+0.00050\ttest-auc:0.84253+0.00247\n",
      "[5]\ttrain-auc:0.84353+0.00065\ttest-auc:0.84253+0.00238\n",
      "[6]\ttrain-auc:0.84377+0.00058\ttest-auc:0.84265+0.00226\n",
      "[7]\ttrain-auc:0.84431+0.00111\ttest-auc:0.84303+0.00267\n",
      "[8]\ttrain-auc:0.84620+0.00183\ttest-auc:0.84259+0.00376\n",
      "[9]\ttrain-auc:0.84719+0.00142\ttest-auc:0.84224+0.00304\n",
      "[10]\ttrain-auc:0.84808+0.00244\ttest-auc:0.84189+0.00285\n",
      "[11]\ttrain-auc:0.84986+0.00389\ttest-auc:0.84225+0.00309\n",
      "[12]\ttrain-auc:0.85001+0.00380\ttest-auc:0.84238+0.00335\n",
      "[13]\ttrain-auc:0.85229+0.00237\ttest-auc:0.84184+0.00305\n",
      "[14]\ttrain-auc:0.85385+0.00220\ttest-auc:0.84178+0.00331\n",
      "[15]\ttrain-auc:0.85537+0.00303\ttest-auc:0.84282+0.00321\n",
      "[16]\ttrain-auc:0.85699+0.00378\ttest-auc:0.84298+0.00288\n",
      "[17]\ttrain-auc:0.85840+0.00372\ttest-auc:0.84258+0.00326\n",
      "[18]\ttrain-auc:0.86080+0.00346\ttest-auc:0.84267+0.00256\n",
      "[19]\ttrain-auc:0.86244+0.00275\ttest-auc:0.84276+0.00331\n",
      "[20]\ttrain-auc:0.86403+0.00191\ttest-auc:0.84346+0.00250\n",
      "[21]\ttrain-auc:0.86468+0.00202\ttest-auc:0.84408+0.00307\n",
      "[22]\ttrain-auc:0.86610+0.00219\ttest-auc:0.84465+0.00308\n",
      "[23]\ttrain-auc:0.86800+0.00239\ttest-auc:0.84486+0.00275\n",
      "[24]\ttrain-auc:0.86848+0.00288\ttest-auc:0.84481+0.00259\n",
      "[25]\ttrain-auc:0.87014+0.00273\ttest-auc:0.84467+0.00260\n",
      "[26]\ttrain-auc:0.87159+0.00212\ttest-auc:0.84477+0.00278\n",
      "[27]\ttrain-auc:0.87213+0.00214\ttest-auc:0.84503+0.00269\n",
      "[28]\ttrain-auc:0.87313+0.00236\ttest-auc:0.84484+0.00270\n",
      "[29]\ttrain-auc:0.87411+0.00207\ttest-auc:0.84417+0.00272\n",
      "[30]\ttrain-auc:0.87469+0.00200\ttest-auc:0.84385+0.00306\n",
      "[31]\ttrain-auc:0.87519+0.00180\ttest-auc:0.84346+0.00288\n",
      "[32]\ttrain-auc:0.87609+0.00159\ttest-auc:0.84386+0.00298\n",
      "[33]\ttrain-auc:0.87700+0.00111\ttest-auc:0.84455+0.00255\n",
      "[34]\ttrain-auc:0.87790+0.00079\ttest-auc:0.84434+0.00304\n",
      "[35]\ttrain-auc:0.87878+0.00063\ttest-auc:0.84444+0.00289\n",
      "[36]\ttrain-auc:0.87988+0.00080\ttest-auc:0.84433+0.00270\n",
      "[37]\ttrain-auc:0.88075+0.00055\ttest-auc:0.84485+0.00270\n",
      "[38]\ttrain-auc:0.88154+0.00069\ttest-auc:0.84488+0.00248\n",
      "[39]\ttrain-auc:0.88251+0.00062\ttest-auc:0.84444+0.00309\n",
      "[40]\ttrain-auc:0.88297+0.00068\ttest-auc:0.84444+0.00302\n",
      "[41]\ttrain-auc:0.88335+0.00038\ttest-auc:0.84433+0.00342\n",
      "[42]\ttrain-auc:0.88359+0.00041\ttest-auc:0.84419+0.00336\n",
      "[43]\ttrain-auc:0.88420+0.00059\ttest-auc:0.84429+0.00342\n",
      "[44]\ttrain-auc:0.88468+0.00053\ttest-auc:0.84429+0.00344\n",
      "[45]\ttrain-auc:0.88502+0.00078\ttest-auc:0.84394+0.00340\n",
      "[46]\ttrain-auc:0.88520+0.00101\ttest-auc:0.84374+0.00346\n",
      "[47]\ttrain-auc:0.88550+0.00106\ttest-auc:0.84394+0.00342\n",
      "[48]\ttrain-auc:0.88606+0.00148\ttest-auc:0.84397+0.00309\n",
      "[49]\ttrain-auc:0.88633+0.00145\ttest-auc:0.84369+0.00291\n",
      "[50]\ttrain-auc:0.88716+0.00214\ttest-auc:0.84373+0.00311\n",
      "[51]\ttrain-auc:0.88754+0.00236\ttest-auc:0.84352+0.00290\n",
      "[52]\ttrain-auc:0.88777+0.00245\ttest-auc:0.84383+0.00287\n",
      "[53]\ttrain-auc:0.88832+0.00226\ttest-auc:0.84399+0.00285\n",
      "[54]\ttrain-auc:0.88868+0.00211\ttest-auc:0.84410+0.00288\n",
      "[55]\ttrain-auc:0.88886+0.00222\ttest-auc:0.84416+0.00292\n",
      "[56]\ttrain-auc:0.88906+0.00216\ttest-auc:0.84419+0.00281\n"
     ]
    }
   ],
   "source": [
    "cv_results = xgb.cv( params,dtrain = train_matrix,num_boost_round= 500,\n",
    "                    nfold = params.get('nfold',5),\n",
    "                    metrics = params['eval_metric'],\n",
    "                    early_stopping_rounds = params[\"early_stopping_rounds\"],\n",
    "                    verbose_eval = True, seed = 888)"
   ]
  },
  {
   "cell_type": "code",
   "execution_count": 103,
   "metadata": {},
   "outputs": [
    {
     "data": {
      "text/html": [
       "<div>\n",
       "<style scoped>\n",
       "    .dataframe tbody tr th:only-of-type {\n",
       "        vertical-align: middle;\n",
       "    }\n",
       "\n",
       "    .dataframe tbody tr th {\n",
       "        vertical-align: top;\n",
       "    }\n",
       "\n",
       "    .dataframe thead th {\n",
       "        text-align: right;\n",
       "    }\n",
       "</style>\n",
       "<table border=\"1\" class=\"dataframe\">\n",
       "  <thead>\n",
       "    <tr style=\"text-align: right;\">\n",
       "      <th></th>\n",
       "      <th>train-auc-mean</th>\n",
       "      <th>train-auc-std</th>\n",
       "      <th>test-auc-mean</th>\n",
       "      <th>test-auc-std</th>\n",
       "    </tr>\n",
       "  </thead>\n",
       "  <tbody>\n",
       "    <tr>\n",
       "      <th>0</th>\n",
       "      <td>0.841430</td>\n",
       "      <td>0.000721</td>\n",
       "      <td>0.841130</td>\n",
       "      <td>0.002723</td>\n",
       "    </tr>\n",
       "    <tr>\n",
       "      <th>1</th>\n",
       "      <td>0.842697</td>\n",
       "      <td>0.000703</td>\n",
       "      <td>0.842228</td>\n",
       "      <td>0.002444</td>\n",
       "    </tr>\n",
       "    <tr>\n",
       "      <th>2</th>\n",
       "      <td>0.843226</td>\n",
       "      <td>0.000638</td>\n",
       "      <td>0.842429</td>\n",
       "      <td>0.002342</td>\n",
       "    </tr>\n",
       "    <tr>\n",
       "      <th>3</th>\n",
       "      <td>0.843328</td>\n",
       "      <td>0.000640</td>\n",
       "      <td>0.842451</td>\n",
       "      <td>0.002280</td>\n",
       "    </tr>\n",
       "    <tr>\n",
       "      <th>4</th>\n",
       "      <td>0.843446</td>\n",
       "      <td>0.000502</td>\n",
       "      <td>0.842530</td>\n",
       "      <td>0.002467</td>\n",
       "    </tr>\n",
       "    <tr>\n",
       "      <th>5</th>\n",
       "      <td>0.843533</td>\n",
       "      <td>0.000651</td>\n",
       "      <td>0.842531</td>\n",
       "      <td>0.002376</td>\n",
       "    </tr>\n",
       "    <tr>\n",
       "      <th>6</th>\n",
       "      <td>0.843769</td>\n",
       "      <td>0.000584</td>\n",
       "      <td>0.842653</td>\n",
       "      <td>0.002262</td>\n",
       "    </tr>\n",
       "    <tr>\n",
       "      <th>7</th>\n",
       "      <td>0.844308</td>\n",
       "      <td>0.001114</td>\n",
       "      <td>0.843029</td>\n",
       "      <td>0.002668</td>\n",
       "    </tr>\n",
       "    <tr>\n",
       "      <th>8</th>\n",
       "      <td>0.846195</td>\n",
       "      <td>0.001831</td>\n",
       "      <td>0.842593</td>\n",
       "      <td>0.003758</td>\n",
       "    </tr>\n",
       "    <tr>\n",
       "      <th>9</th>\n",
       "      <td>0.847190</td>\n",
       "      <td>0.001422</td>\n",
       "      <td>0.842239</td>\n",
       "      <td>0.003042</td>\n",
       "    </tr>\n",
       "    <tr>\n",
       "      <th>10</th>\n",
       "      <td>0.848078</td>\n",
       "      <td>0.002436</td>\n",
       "      <td>0.841892</td>\n",
       "      <td>0.002846</td>\n",
       "    </tr>\n",
       "    <tr>\n",
       "      <th>11</th>\n",
       "      <td>0.849857</td>\n",
       "      <td>0.003888</td>\n",
       "      <td>0.842246</td>\n",
       "      <td>0.003088</td>\n",
       "    </tr>\n",
       "    <tr>\n",
       "      <th>12</th>\n",
       "      <td>0.850005</td>\n",
       "      <td>0.003799</td>\n",
       "      <td>0.842382</td>\n",
       "      <td>0.003345</td>\n",
       "    </tr>\n",
       "    <tr>\n",
       "      <th>13</th>\n",
       "      <td>0.852292</td>\n",
       "      <td>0.002374</td>\n",
       "      <td>0.841842</td>\n",
       "      <td>0.003051</td>\n",
       "    </tr>\n",
       "    <tr>\n",
       "      <th>14</th>\n",
       "      <td>0.853851</td>\n",
       "      <td>0.002198</td>\n",
       "      <td>0.841779</td>\n",
       "      <td>0.003308</td>\n",
       "    </tr>\n",
       "    <tr>\n",
       "      <th>15</th>\n",
       "      <td>0.855370</td>\n",
       "      <td>0.003027</td>\n",
       "      <td>0.842819</td>\n",
       "      <td>0.003213</td>\n",
       "    </tr>\n",
       "    <tr>\n",
       "      <th>16</th>\n",
       "      <td>0.856995</td>\n",
       "      <td>0.003775</td>\n",
       "      <td>0.842976</td>\n",
       "      <td>0.002883</td>\n",
       "    </tr>\n",
       "    <tr>\n",
       "      <th>17</th>\n",
       "      <td>0.858395</td>\n",
       "      <td>0.003717</td>\n",
       "      <td>0.842581</td>\n",
       "      <td>0.003259</td>\n",
       "    </tr>\n",
       "    <tr>\n",
       "      <th>18</th>\n",
       "      <td>0.860798</td>\n",
       "      <td>0.003460</td>\n",
       "      <td>0.842673</td>\n",
       "      <td>0.002559</td>\n",
       "    </tr>\n",
       "    <tr>\n",
       "      <th>19</th>\n",
       "      <td>0.862435</td>\n",
       "      <td>0.002754</td>\n",
       "      <td>0.842763</td>\n",
       "      <td>0.003312</td>\n",
       "    </tr>\n",
       "    <tr>\n",
       "      <th>20</th>\n",
       "      <td>0.864031</td>\n",
       "      <td>0.001907</td>\n",
       "      <td>0.843458</td>\n",
       "      <td>0.002495</td>\n",
       "    </tr>\n",
       "    <tr>\n",
       "      <th>21</th>\n",
       "      <td>0.864679</td>\n",
       "      <td>0.002019</td>\n",
       "      <td>0.844079</td>\n",
       "      <td>0.003073</td>\n",
       "    </tr>\n",
       "    <tr>\n",
       "      <th>22</th>\n",
       "      <td>0.866102</td>\n",
       "      <td>0.002186</td>\n",
       "      <td>0.844647</td>\n",
       "      <td>0.003075</td>\n",
       "    </tr>\n",
       "    <tr>\n",
       "      <th>23</th>\n",
       "      <td>0.867998</td>\n",
       "      <td>0.002391</td>\n",
       "      <td>0.844864</td>\n",
       "      <td>0.002747</td>\n",
       "    </tr>\n",
       "    <tr>\n",
       "      <th>24</th>\n",
       "      <td>0.868485</td>\n",
       "      <td>0.002880</td>\n",
       "      <td>0.844806</td>\n",
       "      <td>0.002588</td>\n",
       "    </tr>\n",
       "    <tr>\n",
       "      <th>25</th>\n",
       "      <td>0.870139</td>\n",
       "      <td>0.002729</td>\n",
       "      <td>0.844675</td>\n",
       "      <td>0.002598</td>\n",
       "    </tr>\n",
       "    <tr>\n",
       "      <th>26</th>\n",
       "      <td>0.871595</td>\n",
       "      <td>0.002116</td>\n",
       "      <td>0.844770</td>\n",
       "      <td>0.002776</td>\n",
       "    </tr>\n",
       "    <tr>\n",
       "      <th>27</th>\n",
       "      <td>0.872134</td>\n",
       "      <td>0.002139</td>\n",
       "      <td>0.845030</td>\n",
       "      <td>0.002691</td>\n",
       "    </tr>\n",
       "  </tbody>\n",
       "</table>\n",
       "</div>"
      ],
      "text/plain": [
       "    train-auc-mean  train-auc-std  test-auc-mean  test-auc-std\n",
       "0         0.841430       0.000721       0.841130      0.002723\n",
       "1         0.842697       0.000703       0.842228      0.002444\n",
       "2         0.843226       0.000638       0.842429      0.002342\n",
       "3         0.843328       0.000640       0.842451      0.002280\n",
       "4         0.843446       0.000502       0.842530      0.002467\n",
       "5         0.843533       0.000651       0.842531      0.002376\n",
       "6         0.843769       0.000584       0.842653      0.002262\n",
       "7         0.844308       0.001114       0.843029      0.002668\n",
       "8         0.846195       0.001831       0.842593      0.003758\n",
       "9         0.847190       0.001422       0.842239      0.003042\n",
       "10        0.848078       0.002436       0.841892      0.002846\n",
       "11        0.849857       0.003888       0.842246      0.003088\n",
       "12        0.850005       0.003799       0.842382      0.003345\n",
       "13        0.852292       0.002374       0.841842      0.003051\n",
       "14        0.853851       0.002198       0.841779      0.003308\n",
       "15        0.855370       0.003027       0.842819      0.003213\n",
       "16        0.856995       0.003775       0.842976      0.002883\n",
       "17        0.858395       0.003717       0.842581      0.003259\n",
       "18        0.860798       0.003460       0.842673      0.002559\n",
       "19        0.862435       0.002754       0.842763      0.003312\n",
       "20        0.864031       0.001907       0.843458      0.002495\n",
       "21        0.864679       0.002019       0.844079      0.003073\n",
       "22        0.866102       0.002186       0.844647      0.003075\n",
       "23        0.867998       0.002391       0.844864      0.002747\n",
       "24        0.868485       0.002880       0.844806      0.002588\n",
       "25        0.870139       0.002729       0.844675      0.002598\n",
       "26        0.871595       0.002116       0.844770      0.002776\n",
       "27        0.872134       0.002139       0.845030      0.002691"
      ]
     },
     "execution_count": 103,
     "metadata": {},
     "output_type": "execute_result"
    }
   ],
   "source": [
    "cv_results"
   ]
  },
  {
   "cell_type": "code",
   "execution_count": null,
   "metadata": {},
   "outputs": [],
   "source": [
    "xgb.train()"
   ]
  },
  {
   "cell_type": "code",
   "execution_count": 105,
   "metadata": {},
   "outputs": [
    {
     "name": "stdout",
     "output_type": "stream",
     "text": [
      "[0]\ttrain-auc:0.84150\n",
      "[1]\ttrain-auc:0.84288\n",
      "[2]\ttrain-auc:0.84314\n",
      "[3]\ttrain-auc:0.84308\n",
      "[4]\ttrain-auc:0.84315\n",
      "[5]\ttrain-auc:0.84339\n",
      "[6]\ttrain-auc:0.84361\n",
      "[7]\ttrain-auc:0.84372\n",
      "[8]\ttrain-auc:0.85092\n",
      "[9]\ttrain-auc:0.85195\n",
      "[10]\ttrain-auc:0.85183\n",
      "[11]\ttrain-auc:0.85550\n",
      "[12]\ttrain-auc:0.85689\n",
      "[13]\ttrain-auc:0.85760\n",
      "[14]\ttrain-auc:0.85938\n",
      "[15]\ttrain-auc:0.86003\n",
      "[16]\ttrain-auc:0.86261\n",
      "[17]\ttrain-auc:0.86366\n",
      "[18]\ttrain-auc:0.86562\n",
      "[19]\ttrain-auc:0.86525\n",
      "[20]\ttrain-auc:0.86572\n",
      "[21]\ttrain-auc:0.86808\n",
      "[22]\ttrain-auc:0.86978\n",
      "[23]\ttrain-auc:0.87118\n",
      "[24]\ttrain-auc:0.87169\n",
      "[25]\ttrain-auc:0.87244\n",
      "[26]\ttrain-auc:0.87340\n",
      "[27]\ttrain-auc:0.87450\n"
     ]
    }
   ],
   "source": [
    "\n",
    "n_best_trees = cv_results.shape[0]\n",
    "\n",
    "# retrain on the whole training dataset\n",
    "watchlist = [(train_matrix, 'train')]\n",
    "gbt = xgb.train(params, train_matrix, n_best_trees,watchlist)"
   ]
  },
  {
   "cell_type": "code",
   "execution_count": 106,
   "metadata": {},
   "outputs": [],
   "source": [
    " #### plot ROC \n",
    "def plot_validation_roc():\n",
    "    \"\"\"\n",
    "    we cannot plot ROC on either training set or test set, since both are biased\n",
    "    so I split the training dataset again into training set and validation set\n",
    "    retrain on training set and plot ROC on validation set and choose a proper cutoff value\n",
    "    \n",
    "    define a class to limit the naming group, avoid polluting the global naming space\n",
    "    \"\"\"\n",
    "    Xtrain_only,Xvalid,ytrain_only,yvalid = train_test_split(Xtrain,ytrain,test_size=0.3,random_state=888)\n",
    "    onlytrain_matrix = xgb.DMatrix(Xtrain_only,ytrain_only)\n",
    "    valid_matrix = xgb.DMatrix(Xvalid,yvalid)\n",
    "\n",
    "    temp_gbt = xgb.train(params, onlytrain_matrix, n_best_trees,[(onlytrain_matrix,'train_only'),(valid_matrix,'validate')])\n",
    "    yvalid_proba_pred = temp_gbt.predict(valid_matrix,ntree_limit=n_best_trees)\n",
    "\n",
    "    fpr,tpr,thresholds = roc_curve(yvalid,yvalid_proba_pred)\n",
    "    return pd.DataFrame({'FPR':fpr,'TPR':tpr,'Threshold':thresholds})"
   ]
  },
  {
   "cell_type": "code",
   "execution_count": 107,
   "metadata": {},
   "outputs": [
    {
     "name": "stdout",
     "output_type": "stream",
     "text": [
      "[0]\ttrain_only-auc:0.84106\tvalidate-auc:0.84209\n",
      "[1]\ttrain_only-auc:0.84255\tvalidate-auc:0.84339\n",
      "[2]\ttrain_only-auc:0.84255\tvalidate-auc:0.84339\n",
      "[3]\ttrain_only-auc:0.84257\tvalidate-auc:0.84327\n",
      "[4]\ttrain_only-auc:0.84349\tvalidate-auc:0.84197\n",
      "[5]\ttrain_only-auc:0.84387\tvalidate-auc:0.84228\n",
      "[6]\ttrain_only-auc:0.84409\tvalidate-auc:0.84242\n",
      "[7]\ttrain_only-auc:0.84417\tvalidate-auc:0.84252\n",
      "[8]\ttrain_only-auc:0.84445\tvalidate-auc:0.84264\n",
      "[9]\ttrain_only-auc:0.84469\tvalidate-auc:0.84293\n",
      "[10]\ttrain_only-auc:0.84988\tvalidate-auc:0.84265\n",
      "[11]\ttrain_only-auc:0.85230\tvalidate-auc:0.84086\n",
      "[12]\ttrain_only-auc:0.85237\tvalidate-auc:0.84088\n",
      "[13]\ttrain_only-auc:0.85238\tvalidate-auc:0.84090\n",
      "[14]\ttrain_only-auc:0.85323\tvalidate-auc:0.84096\n",
      "[15]\ttrain_only-auc:0.85426\tvalidate-auc:0.84184\n",
      "[16]\ttrain_only-auc:0.85671\tvalidate-auc:0.84173\n",
      "[17]\ttrain_only-auc:0.85952\tvalidate-auc:0.84143\n",
      "[18]\ttrain_only-auc:0.86110\tvalidate-auc:0.84149\n",
      "[19]\ttrain_only-auc:0.86497\tvalidate-auc:0.84022\n",
      "[20]\ttrain_only-auc:0.86657\tvalidate-auc:0.84172\n",
      "[21]\ttrain_only-auc:0.86853\tvalidate-auc:0.84163\n",
      "[22]\ttrain_only-auc:0.86980\tvalidate-auc:0.84241\n",
      "[23]\ttrain_only-auc:0.87133\tvalidate-auc:0.84180\n",
      "[24]\ttrain_only-auc:0.87188\tvalidate-auc:0.84225\n",
      "[25]\ttrain_only-auc:0.87319\tvalidate-auc:0.84209\n",
      "[26]\ttrain_only-auc:0.87409\tvalidate-auc:0.84191\n",
      "[27]\ttrain_only-auc:0.87538\tvalidate-auc:0.84128\n"
     ]
    }
   ],
   "source": [
    "roc = plot_validation_roc()"
   ]
  },
  {
   "cell_type": "code",
   "execution_count": 108,
   "metadata": {},
   "outputs": [
    {
     "data": {
      "text/plain": [
       "Text(0, 0.5, 'TPR')"
      ]
     },
     "execution_count": 108,
     "metadata": {},
     "output_type": "execute_result"
    },
    {
     "data": {
      "image/png": "[encoded data removed]",
      "text/plain": [
       "<Figure size 720x360 with 1 Axes>"
      ]
     },
     "metadata": {},
     "output_type": "display_data"
    }
   ],
   "source": [
    "plt.figure(figsize=(10,5))\n",
    "plt.plot(roc.FPR,roc.TPR,marker='h')\n",
    "plt.xlabel(\"FPR\")\n",
    "plt.ylabel(\"TPR\")"
   ]
  },
  {
   "cell_type": "code",
   "execution_count": 114,
   "metadata": {},
   "outputs": [
    {
     "data": {
      "text/plain": [
       "<matplotlib.axes._subplots.AxesSubplot at 0x20dd855b688>"
      ]
     },
     "execution_count": 114,
     "metadata": {},
     "output_type": "execute_result"
    },
    {
     "data": {
      "image/png": "[encoded data removed]",
      "text/plain": [
       "<Figure size 432x288 with 1 Axes>"
      ]
     },
     "metadata": {},
     "output_type": "display_data"
    }
   ],
   "source": [
    "xgb.plot_importance(gbt)"
   ]
  },
  {
   "cell_type": "code",
   "execution_count": 115,
   "metadata": {},
   "outputs": [
    {
     "data": {
      "text/plain": [
       "'digraph Tree {\\nnode [shape=box, style=\"filled\", color=\"black\"] ;\\ngraph [ranksep=equally, splines=polyline] ;\\n0 [label=\"hour_diff <= 0.019\\\\ngini = 0.17\\\\nsamples = 100.0%\\\\nvalue = [0.906, 0.094]\\\\nclass = NotFraud\", fillcolor=\"#e88e4d\"] ;\\n1 [label=\"gini = 0.0\\\\nsamples = 5.0%\\\\nvalue = [0.0, 1.0]\\\\nclass = Fraud\", fillcolor=\"#399de5\"] ;\\n0 -> 1 [labeldistance=2.5, labelangle=45, headlabel=\"True\"] ;\\n2 [label=\"n_dev_shared <= 1.5\\\\ngini = 0.087\\\\nsamples = 95.0%\\\\nvalue = [0.954, 0.046]\\\\nclass = NotFraud\", fillcolor=\"#e68742\"] ;\\n0 -> 2 [labeldistance=2.5, labelangle=-45, headlabel=\"False\"] ;\\n3 [label=\"hour_diff <= 2436.371\\\\ngini = 0.059\\\\nsamples = 87.2%\\\\nvalue = [0.97, 0.03]\\\\nclass = NotFraud\", fillcolor=\"#e6853f\"] ;\\n2 -> 3 ;\\n4 [label=\"gini = 0.058\\\\nsamples = 73.7%\\\\nvalue = [0.97, 0.03]\\\\nclass = NotFraud\", fillcolor=\"#e6853f\"] ;\\n3 -> 4 ;\\n5 [label=\"gini = 0.065\\\\nsamples = 13.5%\\\\nvalue = [0.966, 0.034]\\\\nclass = NotFraud\", fillcolor=\"#e68540\"] ;\\n3 -> 5 ;\\n6 [label=\"source_Direct <= 0.5\\\\ngini = 0.339\\\\nsamples = 7.8%\\\\nvalue = [0.783, 0.217]\\\\nclass = NotFraud\", fillcolor=\"#eca470\"] ;\\n2 -> 6 ;\\n7 [label=\"gini = 0.308\\\\nsamples = 6.2%\\\\nvalue = [0.81, 0.19]\\\\nclass = NotFraud\", fillcolor=\"#eb9f68\"] ;\\n6 -> 7 ;\\n8 [label=\"gini = 0.436\\\\nsamples = 1.5%\\\\nvalue = [0.678, 0.322]\\\\nclass = NotFraud\", fillcolor=\"#f1bd97\"] ;\\n6 -> 8 ;\\n{rank=same ; 0} ;\\n{rank=same ; 2} ;\\n{rank=same ; 3; 6} ;\\n{rank=same ; 1; 4; 5; 7; 8} ;\\n}'"
      ]
     },
     "execution_count": 115,
     "metadata": {},
     "output_type": "execute_result"
    }
   ],
   "source": [
    "\n",
    "dt = DecisionTreeClassifier(max_depth=3,min_samples_leaf=20,min_samples_split=20)\n",
    "dt.fit(X,y)\n",
    "export_graphviz(dt,feature_names=X.columns,class_names=['NotFraud','Fraud'],\n",
    "                proportion=True,leaves_parallel=True,filled=True)"
   ]
  }
 ],
 "metadata": {
  "kernelspec": {
   "display_name": "Python 3",
   "language": "python",
   "name": "python3"
  },
  "language_info": {
   "codemirror_mode": {
    "name": "ipython",
    "version": 3
   },
   "file_extension": ".py",
   "mimetype": "text/x-python",
   "name": "python",
   "nbconvert_exporter": "python",
   "pygments_lexer": "ipython3",
   "version": "3.7.6"
  }
 },
 "nbformat": 4,
 "nbformat_minor": 4
}
